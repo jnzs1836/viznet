{
 "cells": [
  {
   "cell_type": "code",
   "execution_count": 1,
   "metadata": {
    "pycharm": {
     "is_executing": false
    }
   },
   "outputs": [],
   "source": [
    "%load_ext autoreload\n",
    "%autoreload 2\n",
    "\n",
    "import os\n",
    "from os.path import join\n",
    "from os import listdir\n",
    "import sys\n",
    "import pandas as pd\n",
    "import random\n",
    "import itertools\n",
    "\n",
    "from collections import OrderedDict, Counter\n",
    "import argparse\n",
    "import gzip\n",
    "import json\n",
    "import chardet\n",
    "import traceback\n",
    "from time import time\n",
    "from pprint import pprint\n",
    "import matplotlib as mpl\n",
    "import matplotlib.pyplot as plt\n",
    "\n",
    "import numpy as np\n",
    "np.warnings.filterwarnings('ignore')\n",
    "import pandas as pd\n",
    "import seaborn as sns"
   ]
  },
  {
   "cell_type": "code",
   "execution_count": 498,
   "metadata": {},
   "outputs": [],
   "source": [
    "from styles import *"
   ]
  },
  {
   "cell_type": "code",
   "execution_count": 2,
   "metadata": {
    "pycharm": {
     "is_executing": false
    }
   },
   "outputs": [],
   "source": [
    "def normalize_count(d):\n",
    "    d = Counter(d)\n",
    "    total = np.sum(list(d.values()))\n",
    "    return { k: (v / total) for k, v in d.items() }"
   ]
  },
  {
   "cell_type": "code",
   "execution_count": 311,
   "metadata": {},
   "outputs": [],
   "source": [
    "features_dir = '../features'\n",
    "results_dir = '../results'\n",
    "corpuses = [ 'webtables', 'plotly', 'manyeyes', 'opendata', 'viznet']\n",
    "aggregate_field_features_base_file_name = '{}_aggregate_single_field_features.csv'\n",
    "single_field_features_base_file_name = '{}_single_field_features.csv'\n",
    "\n",
    "aggregate_feature_names_to_use = [\n",
    "    'exists-agg-num',\n",
    "    'length-agg-max',\n",
    "    'general_type_is_c-agg-num',\n",
    "    'general_type_is_t-agg-num',\n",
    "    'general_type_is_q-agg-num',\n",
    "    'is_normal_5-agg-num',\n",
    "    'is_sorted-agg-num',\n",
    "    'is_normal_5-agg-percentage',\n",
    "    'is_sorted-agg-percentage',\n",
    "]\n",
    "\n",
    "single_field_feature_names_to_use = [\n",
    "    'length',\n",
    "    'entropy',\n",
    "    'general_type_is_c',\n",
    "    'general_type_is_t',\n",
    "    'general_type_is_q',\n",
    "    'sortedness',\n",
    "    'entropy',\n",
    "    'normality_statistic',\n",
    "    'normality_p',\n",
    "    'is_normal_5',\n",
    "    'list_entropy',\n",
    "    'is_sorted',\n",
    "    'num_unique_elements'\n",
    "    \n",
    "]\n",
    "\n",
    "distributions = [\n",
    "    'norm',\n",
    "    'lognorm',\n",
    "    'expon',\n",
    "    'powerlaw',\n",
    "    'uniform',\n",
    "    'chi2'\n",
    "]\n",
    "\n",
    "for dist_name in distributions:\n",
    "    single_field_feature_names_to_use.extend([\n",
    "        '{}_ks_statistic'.format(dist_name),\n",
    "        '{}_ks_p'.format(dist_name)\n",
    "    ])"
   ]
  },
  {
   "cell_type": "code",
   "execution_count": null,
   "metadata": {},
   "outputs": [],
   "source": [
    "nrows_agg = 100000\n",
    "nrows_single = 1000000\n",
    "aggregate_feature_dfs_by_corpus = OrderedDict()\n",
    "single_field_feature_dfs_by_corpus = OrderedDict()\n",
    "\n",
    "for corpus in corpuses:\n",
    "    print('Corpus:', corpus)\n",
    "    aggregate_features_df = pd.read_csv(\n",
    "        join(features_dir, aggregate_field_features_base_file_name.format(corpus)),\n",
    "        usecols=[ 'dataset_id' ] + aggregate_feature_names_to_use,\n",
    "        nrows=nrows_agg\n",
    "    )\n",
    "    print('Aggregate:', aggregate_features_df.shape)\n",
    "    single_field_features_df = pd.read_csv(\n",
    "        join(features_dir, single_field_features_base_file_name.format(corpus)),\n",
    "        usecols=[ 'dataset_id', 'field_id' ] + single_field_feature_names_to_use,\n",
    "        nrows=nrows_single\n",
    "    )\n",
    "    \n",
    "    aggregate_feature_dfs_by_corpus[corpus] = aggregate_features_df\n",
    "    single_field_feature_dfs_by_corpus[corpus] = single_field_features_df\n",
    "    print('Single field:', single_field_features_df.shape)\n",
    "    print('-----------------------')"
   ]
  },
  {
   "cell_type": "code",
   "execution_count": 551,
   "metadata": {},
   "outputs": [],
   "source": [
    "combined_dataset = pd.concat([ df for df in aggregate_feature_dfs_by_corpus.values() ])\n",
    "aggregate_feature_dfs_by_corpus['viznet'] = combined_dataset"
   ]
  },
  {
   "cell_type": "code",
   "execution_count": 552,
   "metadata": {},
   "outputs": [],
   "source": [
    "combined_single_field_dataset = pd.concat([ df for df in single_field_feature_dfs_by_corpus.values() ])\n",
    "single_field_feature_dfs_by_corpus['viznet'] = combined_single_field_dataset"
   ]
  },
  {
   "cell_type": "markdown",
   "metadata": {},
   "source": [
    "## Column Distribution"
   ]
  },
  {
   "cell_type": "code",
   "execution_count": 503,
   "metadata": {},
   "outputs": [
    {
     "name": "stdout",
     "output_type": "stream",
     "text": [
      "webtables 4.97703 4.0\n",
      "plotly 19.500994871794873 3.0\n",
      "manyeyes 5.56938 2.0\n",
      "opendata 12.56184 2.0\n",
      "viznet 10.596659119496856 3.0\n"
     ]
    }
   ],
   "source": [
    "for corpus in corpuses:\n",
    "    df = aggregate_feature_dfs_by_corpus[corpus]\n",
    "    x = df['exists-agg-num']\n",
    "    desc = x.describe()\n",
    "    print(corpus, desc['mean'], desc['50%'])"
   ]
  },
  {
   "cell_type": "code",
   "execution_count": 694,
   "metadata": {},
   "outputs": [
    {
     "data": {
      "image/png": "[encoded data removed]",
      "text/plain": [
       "<Figure size 176.4x88.2 with 1 Axes>"
      ]
     },
     "metadata": {},
     "output_type": "display_data"
    },
    {
     "data": {
      "image/png": "[encoded data removed]",
      "text/plain": [
       "<Figure size 176.4x88.2 with 1 Axes>"
      ]
     },
     "metadata": {},
     "output_type": "display_data"
    },
    {
     "data": {
      "image/png": "[encoded data removed]",
      "text/plain": [
       "<Figure size 176.4x88.2 with 1 Axes>"
      ]
     },
     "metadata": {},
     "output_type": "display_data"
    },
    {
     "data": {
      "image/png": "[encoded data removed]",
      "text/plain": [
       "<Figure size 176.4x88.2 with 1 Axes>"
      ]
     },
     "metadata": {},
     "output_type": "display_data"
    },
    {
     "data": {
      "image/png": "[encoded data removed]",
      "text/plain": [
       "<Figure size 176.4x88.2 with 1 Axes>"
      ]
     },
     "metadata": {},
     "output_type": "display_data"
    }
   ],
   "source": [
    "max_columns = 11\n",
    "bin_labels = np.arange(1, max_columns + 1, step=1) \n",
    "bins = bin_labels - 0.5\n",
    "\n",
    "n_cols_by_corpus = {}\n",
    "for corpus in corpuses:\n",
    "    x = aggregate_feature_dfs_by_corpus[corpus]['exists-agg-num']\n",
    "    n_cols = x[x < np.percentile(x, 99.9)]\n",
    "    n_cols_by_corpus[corpus] = n_cols\n",
    "\n",
    "distplot_params = {\n",
    "    'bins': bins,\n",
    "    'hist': True,\n",
    "    'kde': False,\n",
    "    'norm_hist': True,\n",
    "    'hist_kws': { 'alpha': 1}\n",
    "}\n",
    "\n",
    "textwidth = 7.48\n",
    "figurewidth = 2.45  #  . (textwidth / 3)\n",
    "figureheight = (figurewidth / 2)\n",
    "\n",
    "for (label, data) in n_cols_by_corpus.items():\n",
    "    fig = plt.figure(figsize=(figurewidth, figureheight))\n",
    "    ax = sns.distplot(\n",
    "        data,\n",
    "        color=colors[label],\n",
    "        label=label,\n",
    "        # hist_kws=dict(alpha=1),\n",
    "        **distplot_params\n",
    "    )  #, hist=False, rug=True)\n",
    "    ax.legend().set_visible(False)\n",
    "    ax.grid(False)\n",
    "    ax.yaxis.grid(True)\n",
    "    plt.xlim([0, 11])\n",
    "    plt.ylim([0, .42])\n",
    "    plt.yticks([0.0, 0.1, 0.2, 0.3, 0.4])\n",
    "    plt.xticks([1, 2, 3, 4, 5, 6, 7, 8, 9, 10 ])\n",
    "    plt.xlabel(False)\n",
    "    ax.xaxis.label.set_visible(False)\n",
    "    # plt.xlabel('Number of Columns')\n",
    "    # plt.legend(False)\n",
    "    \n",
    "    file_name = 'column_distribution_{}'.format(label)\n",
    "    plt.tight_layout()\n",
    "    plt.savefig(join(results_dir, '{}.svg'.format(file_name)), format='svg', pad_inches=0.0, bbox_inches='tight')\n",
    "    plt.savefig(join(results_dir, '{}.pdf'.format(file_name)), format='pdf', pad_inches=0.0, bbox_inches='tight')\n",
    "    plt.show()"
   ]
  },
  {
   "cell_type": "code",
   "execution_count": 415,
   "metadata": {},
   "outputs": [
    {
     "data": {
      "image/png": "[encoded data removed]",
      "text/plain": [
       "<Figure size 252x155.748 with 1 Axes>"
      ]
     },
     "metadata": {},
     "output_type": "display_data"
    }
   ],
   "source": [
    "for corpus in corpuses:\n",
    "    ax = sns.distplot(\n",
    "        n_cols_by_corpus[corpus],\n",
    "        color=colors[corpus],\n",
    "        label=formatted_names[corpus],\n",
    "    )\n",
    "    ax.set_xlim([0, 25])\n",
    "    ax.set_xlabel('Number of Columns')"
   ]
  },
  {
   "cell_type": "markdown",
   "metadata": {},
   "source": [
    "## Row Distribution"
   ]
  },
  {
   "cell_type": "code",
   "execution_count": 313,
   "metadata": {},
   "outputs": [
    {
     "name": "stdout",
     "output_type": "stream",
     "text": [
      "webtables 14.21792 5.0\n",
      "plotly 5911.647715451709 50.0\n",
      "manyeyes 963.9397333975749 19.0\n",
      "opendata 14252.532028397565 70.0\n",
      "viznet 5258.101140130588 17.0\n"
     ]
    }
   ],
   "source": [
    "for corpus in corpuses:\n",
    "    df = aggregate_feature_dfs_by_corpus[corpus]\n",
    "    x = df['length-agg-max']\n",
    "    desc = x.describe()\n",
    "    print(corpus, desc['mean'], desc['50%'])"
   ]
  },
  {
   "cell_type": "code",
   "execution_count": 693,
   "metadata": {},
   "outputs": [
    {
     "name": "stdout",
     "output_type": "stream",
     "text": [
      "webtables\n",
      "plotly\n",
      "manyeyes\n",
      "opendata\n",
      "viznet\n"
     ]
    },
    {
     "data": {
      "image/png": "[encoded data removed]",
      "text/plain": [
       "<Figure size 176.4x147 with 1 Axes>"
      ]
     },
     "metadata": {},
     "output_type": "display_data"
    }
   ],
   "source": [
    "field = 'length-agg-max'\n",
    "\n",
    "from scipy.optimize import curve_fit\n",
    "\n",
    "xlim_max = 0\n",
    "ylim_max = 0\n",
    "\n",
    "textwidth = 7.48\n",
    "figurewidth = 2.45  #  . (textwidth / 3)\n",
    "figureheight = (figurewidth / 2)\n",
    "fig, ax = plt.subplots(figsize=(figurewidth, figurewidth / 1.2))\n",
    "# fig = plt.figure(figsize=(figurewidth, figureheight))\n",
    "    \n",
    "for (corpus, data) in aggregate_feature_dfs_by_corpus.items():\n",
    "\n",
    "    print(corpus)\n",
    "    x = data[field] * 2.5\n",
    "    \n",
    "    if corpus == 'viznet':\n",
    "        # Correct for 4x as many samples\n",
    "        x = list(x)\n",
    "        random.shuffle(x)\n",
    "        x = pd.Series(list(x)[:int((len(x) / 4))])\n",
    "    x.dropna(inplace=True)\n",
    "\n",
    "    counts, bin_edges = np.histogram(\n",
    "        np.array(x),\n",
    "        bins=1000,  # 'auto'\n",
    "    )\n",
    "\n",
    "    bin_centers = (bin_edges[:-1] + bin_edges[1:])/2.\n",
    "    x = bin_centers\n",
    "    y = counts\n",
    "\n",
    "    ax.scatter(\n",
    "        x,\n",
    "        y,\n",
    "        c=colors[corpus],\n",
    "        label=formatted_names[corpus],\n",
    "        alpha=0.8,\n",
    "        s=1\n",
    "    )\n",
    "    if np.max(bin_centers) > xlim_max:\n",
    "        xlim_max = np.max(bin_centers)\n",
    "    if np.max(counts) > ylim_max:\n",
    "        ylim_max = np.max(counts)\n",
    "\n",
    "    \n",
    "    ax.set_xlim([1, 50000000])\n",
    "    ax.set_ylim([1, 10**5.5])\n",
    "    \n",
    "    ax.set_xscale('log')\n",
    "    ax.set_yscale('log')\n",
    "    \n",
    "    ax.set_xticks([1, 10, 100, 10**3, 10**4, 10**5, 10**6, 10**7, 10**8])\n",
    "    ax.set_yticks([1, 10, 100, 10**3, 10**4, 10**5])\n",
    "    \n",
    "    ax.set_xticks([1, 10, 100, 10**3, 10**4, 10**5, 10**6, 10**7, 10**8])\n",
    "    ax.set_yticks([1, 10, 100, 10**3, 10**4, 10**5])\n",
    "    \n",
    "    ax.set_xticklabels([0, 1, 2, 3, 4, 5, 6, 7, 8])\n",
    "    ax.set_yticklabels([0, 1, 2, 3, 4, 5 ])\n",
    "    \n",
    "    ax.xaxis.label.set_visible(False)\n",
    "    \n",
    "file_name = 'row_distribution_all'\n",
    "plt.tight_layout()\n",
    "plt.savefig(join(results_dir, '{}.svg'.format(file_name)), format='svg', pad_inches=0.0, bbox_inches='tight')\n",
    "plt.savefig(join(results_dir, '{}.pdf'.format(file_name)), format='pdf', pad_inches=0.0, bbox_inches='tight')\n",
    "plt.show()"
   ]
  },
  {
   "cell_type": "markdown",
   "metadata": {},
   "source": [
    "## Type Distribution"
   ]
  },
  {
   "cell_type": "code",
   "execution_count": null,
   "metadata": {},
   "outputs": [],
   "source": [
    "type_fields = ['general_type_is_c', 'general_type_is_q', 'general_type_is_t']\n",
    "\n",
    "type_field_abbrev_to_name = OrderedDict([\n",
    "    ('c', 'Categorical'),\n",
    "    ('q', 'Quantitative'),\n",
    "    ('t', 'Temporal')\n",
    "])\n",
    "\n",
    "data_types = [ 'Categorical', 'Quantitative', 'Temporal']\n",
    "\n",
    "type_counts_by_dataset = { corpus: Counter({ d: 0 for d in data_types}) for corpus in corpuses }\n",
    "\n",
    "for corpus in corpuses:\n",
    "    df = single_field_feature_dfs_by_corpus[corpus]\n",
    "    for i, row in df.iterrows():\n",
    "        if i % 100000 == 0: print(corpus, i)\n",
    "        for type_field in type_fields:\n",
    "            if row[type_field]:\n",
    "                type_field_abbrev = type_field.split('_')[-1]\n",
    "                type_field_name = type_field_abbrev_to_name[type_field_abbrev]\n",
    "                type_counts_by_dataset[corpus][type_field_name] += 1"
   ]
  },
  {
   "cell_type": "code",
   "execution_count": 336,
   "metadata": {},
   "outputs": [
    {
     "name": "stdout",
     "output_type": "stream",
     "text": [
      "webtables Categorical 575807\n",
      "webtables Quantitative 355617\n",
      "webtables Temporal 68576\n",
      "plotly Categorical 172532\n",
      "plotly Quantitative 753248\n",
      "plotly Temporal 72242\n",
      "manyeyes Categorical 513562\n",
      "manyeyes Quantitative 459314\n",
      "manyeyes Temporal 24750\n",
      "opendata Categorical 762250\n",
      "opendata Quantitative 211100\n",
      "opendata Temporal 22343\n",
      "viznet Categorical 2024151\n",
      "viznet Quantitative 1779279\n",
      "viznet Temporal 187911\n",
      "        corpus     Data Type   percent\n",
      "0   Web Tables   Categorical  0.575807\n",
      "1   Web Tables  Quantitative  0.355617\n",
      "2   Web Tables      Temporal  0.068576\n",
      "3       Plotly   Categorical  0.172874\n",
      "4       Plotly  Quantitative  0.754741\n",
      "5       Plotly      Temporal  0.072385\n",
      "6    Many Eyes   Categorical  0.514784\n",
      "7    Many Eyes  Quantitative  0.460407\n",
      "8    Many Eyes      Temporal  0.024809\n",
      "9    Open Data   Categorical  0.765547\n",
      "10   Open Data  Quantitative  0.212013\n",
      "11   Open Data      Temporal  0.022440\n",
      "12      VizNet   Categorical  0.507136\n",
      "13      VizNet  Quantitative  0.445785\n",
      "14      VizNet      Temporal  0.047080\n"
     ]
    },
    {
     "data": {
      "image/png": "[encoded data removed]",
      "text/plain": [
       "<Figure size 252x155.748 with 1 Axes>"
      ]
     },
     "metadata": {},
     "output_type": "display_data"
    }
   ],
   "source": [
    "data_for_type_bar_chart = []\n",
    "for corpus in corpuses:\n",
    "    d = type_counts_by_dataset[corpus]\n",
    "    \n",
    "    total_count = sum(d.values())\n",
    "    for t, count in d.items():\n",
    "        print(corpus, t, count)\n",
    "        percent = count / total_count\n",
    "        data_for_type_bar_chart.append(OrderedDict([\n",
    "            ('corpus', formatted_names[corpus]),\n",
    "            ('Data Type', t),\n",
    "            ('percent', percent)\n",
    "        ]))\n",
    "df = pd.DataFrame(data_for_type_bar_chart)\n",
    "\n",
    "ax = sns.barplot(\n",
    "    x='corpus',\n",
    "    y='percent',\n",
    "    hue='Data Type',\n",
    "    # hue_order=data_type_orders,\n",
    "    data=df\n",
    ")\n",
    "ax.legend(\n",
    "    ncol=3,\n",
    "    loc=9,\n",
    "    bbox_to_anchor=(0.45, -0.15),\n",
    "    frameon=False\n",
    ")\n",
    "ax.set(ylabel=\"Normalized Frequency\")\n",
    "ax.set(xlabel=\"\")\n",
    "\n",
    "file_name = 'type_distribution_{}'.format(nrows_single)\n",
    "plt.tight_layout()\n",
    "plt.savefig(join(results_dir, '{}.svg'.format(file_name)), format='svg', bbox_inches='tight')\n",
    "plt.savefig(join(results_dir, '{}.pdf'.format(file_name)), format='pdf', bbox_inches='tight')\n",
    "\n",
    "plt.show()"
   ]
  },
  {
   "cell_type": "code",
   "execution_count": 440,
   "metadata": {},
   "outputs": [
    {
     "name": "stderr",
     "output_type": "stream",
     "text": [
      "No handles with labels found to put in legend.\n"
     ]
    },
    {
     "name": "stdout",
     "output_type": "stream",
     "text": [
      "webtables Categorical 575807\n",
      "webtables Quantitative 355617\n",
      "webtables Temporal 68576\n",
      "plotly Categorical 172532\n",
      "plotly Quantitative 753248\n",
      "plotly Temporal 72242\n",
      "manyeyes Categorical 513562\n",
      "manyeyes Quantitative 459314\n",
      "manyeyes Temporal 24750\n",
      "opendata Categorical 762250\n",
      "opendata Quantitative 211100\n",
      "opendata Temporal 22343\n",
      "viznet Categorical 2024151\n",
      "viznet Quantitative 1779279\n",
      "viznet Temporal 187911\n",
      "        corpus     Data Type   percent\n",
      "0   Web Tables   Categorical  0.575807\n",
      "1   Web Tables  Quantitative  0.355617\n",
      "2   Web Tables      Temporal  0.068576\n",
      "3       Plotly   Categorical  0.172874\n",
      "4       Plotly  Quantitative  0.754741\n",
      "5       Plotly      Temporal  0.072385\n",
      "6    Many Eyes   Categorical  0.514784\n",
      "7    Many Eyes  Quantitative  0.460407\n",
      "8    Many Eyes      Temporal  0.024809\n",
      "9    Open Data   Categorical  0.765547\n",
      "10   Open Data  Quantitative  0.212013\n",
      "11   Open Data      Temporal  0.022440\n",
      "12      VizNet   Categorical  0.507136\n",
      "13      VizNet  Quantitative  0.445785\n",
      "14      VizNet      Temporal  0.047080\n",
      "       corpus     Data Type   percent\n",
      "0  Web Tables   Categorical  0.575807\n",
      "1  Web Tables  Quantitative  0.355617\n",
      "2  Web Tables      Temporal  0.068576\n"
     ]
    },
    {
     "data": {
      "image/png": "[encoded data removed]",
      "text/plain": [
       "<Figure size 252x155.748 with 1 Axes>"
      ]
     },
     "metadata": {},
     "output_type": "display_data"
    },
    {
     "name": "stderr",
     "output_type": "stream",
     "text": [
      "No handles with labels found to put in legend.\n"
     ]
    },
    {
     "name": "stdout",
     "output_type": "stream",
     "text": [
      "   corpus     Data Type   percent\n",
      "3  Plotly   Categorical  0.172874\n",
      "4  Plotly  Quantitative  0.754741\n",
      "5  Plotly      Temporal  0.072385\n"
     ]
    },
    {
     "data": {
      "image/png": "[encoded data removed]",
      "text/plain": [
       "<Figure size 252x155.748 with 1 Axes>"
      ]
     },
     "metadata": {},
     "output_type": "display_data"
    },
    {
     "name": "stderr",
     "output_type": "stream",
     "text": [
      "No handles with labels found to put in legend.\n"
     ]
    },
    {
     "name": "stdout",
     "output_type": "stream",
     "text": [
      "      corpus     Data Type   percent\n",
      "6  Many Eyes   Categorical  0.514784\n",
      "7  Many Eyes  Quantitative  0.460407\n",
      "8  Many Eyes      Temporal  0.024809\n"
     ]
    },
    {
     "data": {
      "image/png": "[encoded data removed]",
      "text/plain": [
       "<Figure size 252x155.748 with 1 Axes>"
      ]
     },
     "metadata": {},
     "output_type": "display_data"
    },
    {
     "name": "stderr",
     "output_type": "stream",
     "text": [
      "No handles with labels found to put in legend.\n"
     ]
    },
    {
     "name": "stdout",
     "output_type": "stream",
     "text": [
      "       corpus     Data Type   percent\n",
      "9   Open Data   Categorical  0.765547\n",
      "10  Open Data  Quantitative  0.212013\n",
      "11  Open Data      Temporal  0.022440\n"
     ]
    },
    {
     "data": {
      "image/png": "[encoded data removed]",
      "text/plain": [
       "<Figure size 252x155.748 with 1 Axes>"
      ]
     },
     "metadata": {},
     "output_type": "display_data"
    },
    {
     "name": "stderr",
     "output_type": "stream",
     "text": [
      "No handles with labels found to put in legend.\n"
     ]
    },
    {
     "name": "stdout",
     "output_type": "stream",
     "text": [
      "    corpus     Data Type   percent\n",
      "12  VizNet   Categorical  0.507136\n",
      "13  VizNet  Quantitative  0.445785\n",
      "14  VizNet      Temporal  0.047080\n"
     ]
    },
    {
     "data": {
      "image/png": "[encoded data removed]",
      "text/plain": [
       "<Figure size 252x155.748 with 1 Axes>"
      ]
     },
     "metadata": {},
     "output_type": "display_data"
    }
   ],
   "source": [
    "## Split apart by corpus\n",
    "\n",
    "data_for_type_bar_chart = []\n",
    "for corpus in corpuses:\n",
    "    d = type_counts_by_dataset[corpus]\n",
    "    \n",
    "    total_count = sum(d.values())\n",
    "    for t, count in d.items():\n",
    "        print(corpus, t, count)\n",
    "        percent = count / total_count\n",
    "        data_for_type_bar_chart.append(OrderedDict([\n",
    "            ('corpus', formatted_names[corpus]),\n",
    "            ('Data Type', t),\n",
    "            ('percent', percent)\n",
    "        ]))\n",
    "df = pd.DataFrame(data_for_type_bar_chart)\n",
    "\n",
    "for corpus in corpuses:\n",
    "    fig, ax = plt.subplots(figsize=(3.5, 3.5/ 1.618))\n",
    "    corpus_type_dist_df = df[df['corpus'] == formatted_names[corpus]]\n",
    "    print(corpus_type_dist_df)\n",
    "    ax = sns.barplot(\n",
    "        x='Data Type',\n",
    "        y='percent',\n",
    "        # hue='Data Type',\n",
    "        # hue_order=data_type_orders,\n",
    "        data=corpus_type_dist_df,\n",
    "        color=colors[corpus]\n",
    "    )\n",
    "    ax.legend(\n",
    "        ncol=3,\n",
    "        loc=9,\n",
    "        bbox_to_anchor=(0.45, -0.15),\n",
    "        frameon=False\n",
    "    )\n",
    "    ax.set(ylabel=\"Normalized Frequency\")\n",
    "    ax.set(xlabel=\"\")\n",
    "\n",
    "    file_name = 'type_distribution_{}'.format(nrows_single)\n",
    "    plt.tight_layout()\n",
    "    plt.savefig(join(results_dir, '{}.svg'.format(file_name)), format='svg', bbox_inches='tight')\n",
    "    plt.savefig(join(results_dir, '{}.pdf'.format(file_name)), format='pdf', bbox_inches='tight')\n",
    "\n",
    "    plt.show()"
   ]
  },
  {
   "cell_type": "markdown",
   "metadata": {},
   "source": [
    "## Statistical Distributions"
   ]
  },
  {
   "cell_type": "markdown",
   "metadata": {},
   "source": [
    "### Quantitative"
   ]
  },
  {
   "cell_type": "code",
   "execution_count": null,
   "metadata": {},
   "outputs": [],
   "source": [
    "dist_counts_by_dataset = { corpus: Counter() for corpus in corpuses }\n",
    "alpha = 0.05 / 6  # Null hypo (== drawn from same parent dist) rejection threshold\n",
    "\n",
    "# Take the max if multiple are greater than 0.05\n",
    "\n",
    "dist_p_value_fields = [ '{}_ks_p'.format(dist_name) for dist_name in distributions ]\n",
    "\n",
    "for df_name, df in single_field_feature_dfs_by_corpus.items():\n",
    "    df_only_q = df[df['general_type_is_q']]\n",
    "\n",
    "    for i, row in df_only_q.iterrows():\n",
    "        if (i % 10000) == 0: print(i)\n",
    "        dist_p_values = dict([( v, float(row[v])) for v in dist_p_value_fields])\n",
    "        \n",
    "        filtered_dist_p_values = { k: v for (k, v) in dist_p_values.items() if (v > alpha)}\n",
    "        if not len(filtered_dist_p_values):\n",
    "            dist_counts_by_dataset[df_name]['undetermined'] += 1\n",
    "            continue\n",
    "        \n",
    "        max_p_dist = max(filtered_dist_p_values, key=lambda k: filtered_dist_p_values[k])\n",
    "        dist_counts_by_dataset[df_name][max_p_dist.split('_')[0]] += 1"
   ]
  },
  {
   "cell_type": "code",
   "execution_count": 743,
   "metadata": {},
   "outputs": [
    {
     "name": "stdout",
     "output_type": "stream",
     "text": [
      "       corpus Distribution   percent    color\n",
      "0  Web Tables          L-N  0.175127  #54a24b\n",
      "1  Web Tables          Exp  0.103814  #54a24b\n",
      "2  Web Tables         Norm  0.377164  #54a24b\n",
      "3  Web Tables          Pow  0.115990  #54a24b\n",
      "4  Web Tables          Und  0.157852  #54a24b\n",
      "5  Web Tables        Chi-2  0.023393  #54a24b\n",
      "6  Web Tables         Unif  0.046660  #54a24b\n"
     ]
    },
    {
     "data": {
      "image/png": "[encoded data removed]",
      "text/plain": [
       "<Figure size 176.4x88.2 with 1 Axes>"
      ]
     },
     "metadata": {},
     "output_type": "display_data"
    },
    {
     "name": "stdout",
     "output_type": "stream",
     "text": [
      "    corpus Distribution   percent    color\n",
      "7   Plotly          Und  0.351348  #b279a2\n",
      "8   Plotly          L-N  0.203852  #b279a2\n",
      "9   Plotly         Norm  0.151452  #b279a2\n",
      "10  Plotly          Pow  0.100734  #b279a2\n",
      "11  Plotly        Chi-2  0.043628  #b279a2\n",
      "12  Plotly         Unif  0.073364  #b279a2\n",
      "13  Plotly          Exp  0.075622  #b279a2\n"
     ]
    },
    {
     "data": {
      "image/png": "[encoded data removed]",
      "text/plain": [
       "<Figure size 176.4x88.2 with 1 Axes>"
      ]
     },
     "metadata": {},
     "output_type": "display_data"
    },
    {
     "name": "stdout",
     "output_type": "stream",
     "text": [
      "       corpus Distribution   percent    color\n",
      "14  Many Eyes          Exp  0.089932  #e45756\n",
      "15  Many Eyes          Und  0.305656  #e45756\n",
      "16  Many Eyes          L-N  0.187351  #e45756\n",
      "17  Many Eyes         Norm  0.241473  #e45756\n",
      "18  Many Eyes          Pow  0.097252  #e45756\n",
      "19  Many Eyes        Chi-2  0.053353  #e45756\n",
      "20  Many Eyes         Unif  0.024983  #e45756\n"
     ]
    },
    {
     "data": {
      "image/png": "[encoded data removed]",
      "text/plain": [
       "<Figure size 176.4x88.2 with 1 Axes>"
      ]
     },
     "metadata": {},
     "output_type": "display_data"
    },
    {
     "name": "stdout",
     "output_type": "stream",
     "text": [
      "       corpus Distribution   percent    color\n",
      "21  Open Data          L-N  0.107020  #f58518\n",
      "22  Open Data          Und  0.575031  #f58518\n",
      "23  Open Data         Norm  0.125936  #f58518\n",
      "24  Open Data          Exp  0.065789  #f58518\n",
      "25  Open Data         Unif  0.034751  #f58518\n",
      "26  Open Data          Pow  0.055429  #f58518\n",
      "27  Open Data        Chi-2  0.036045  #f58518\n"
     ]
    },
    {
     "data": {
      "image/png": "[encoded data removed]",
      "text/plain": [
       "<Figure size 176.4x88.2 with 1 Axes>"
      ]
     },
     "metadata": {},
     "output_type": "display_data"
    }
   ],
   "source": [
    "data_for_dist_bar_chart = []\n",
    "for corpus in corpuses:\n",
    "    d = dist_counts_by_dataset[corpus]\n",
    "    \n",
    "    total_count = sum(d.values())\n",
    "    for dist, count in d.items():\n",
    "        percent = count / total_count\n",
    "        data_for_dist_bar_chart.append(OrderedDict([\n",
    "            ('corpus', formatted_names[corpus]),\n",
    "            ('Distribution', dist),\n",
    "            ('percent', percent)\n",
    "        ]))\n",
    "\n",
    "df = pd.DataFrame(data_for_dist_bar_chart)\n",
    "\n",
    "dist_to_formatted_name = {\n",
    "    'norm': 'Normal',\n",
    "    'chi2': 'Chi-squared',\n",
    "    'powerlaw': 'Power Law',\n",
    "    'uniform': 'Uniform',\n",
    "    'expon': 'Exponential',\n",
    "    'lognorm': 'Log-normal',\n",
    "    'undetermined': 'Undetermined'\n",
    "}\n",
    "\n",
    "dist_to_formatted_name = {\n",
    "    'norm': 'Normal',\n",
    "    'chi2': 'Chi-2',\n",
    "    'powerlaw': 'Power',\n",
    "    'uniform': 'Unif',\n",
    "    'expon': 'Expo',\n",
    "    'lognorm': 'Log-norm',\n",
    "    'undetermined': 'Undet'\n",
    "}\n",
    "\n",
    "dist_to_formatted_name = {\n",
    "    'norm': 'Norm',\n",
    "    'chi2': 'Chi-2',\n",
    "    'powerlaw': 'Pow',\n",
    "    'uniform': 'Unif',\n",
    "    'expon': 'Exp',\n",
    "    'lognorm': 'L-N',\n",
    "    'undetermined': 'Und'\n",
    "}\n",
    "\n",
    "df['Distribution'] = df['Distribution'].map(dist_to_formatted_name)\n",
    "\n",
    "data_dist_orders = [\n",
    "    'Norm',\n",
    "    'L-N',\n",
    "    'Pow',\n",
    "    'Exp',\n",
    "    'Unif',\n",
    "    'Chi-2',\n",
    "    'Und'\n",
    "]\n",
    "\n",
    "colors_dict = {\n",
    "    'brown': '#9d755d',\n",
    "    'pink': '#ff9da6',\n",
    "    'green': '#54a24b',\n",
    "    'blue': '#4c78a8',\n",
    "    'orange': '#f58518',\n",
    "    'red': '#e45756',\n",
    "    'purple': '#b279a2',\n",
    "    'teal': '#72b7b2'\n",
    "}\n",
    "\n",
    "colors = {\n",
    "    'manyeyes': colors_dict['red'],\n",
    "    'plotly': colors_dict['purple'],\n",
    "    'viznet': colors_dict['blue'],\n",
    "    'webtables': colors_dict['green'],\n",
    "    'opendata': colors_dict['orange']\n",
    "}\n",
    "\n",
    "formatted_name_colors = { formatted_names[c]: colors[c] for c in corpuses}\n",
    "\n",
    "for corpus in corpuses:\n",
    "\n",
    "    fig, ax = plt.subplots(figsize=(figurewidth, figureheight))\n",
    "\n",
    "    df_with_fits = df[df['corpus'] == formatted_names[corpus]]\n",
    "    df_with_fits['color'] = df_with_fits['corpus'].map(formatted_name_colors)\n",
    "    \n",
    "    ax = sns.barplot(\n",
    "        x='Distribution',\n",
    "        y='percent',\n",
    "        order=data_dist_orders,\n",
    "        hue='corpus',\n",
    "        palette=formatted_name_colors,\n",
    "        # hue_order=data_type_orders,\n",
    "        # palette=sns.color_palette(colors.values()),\n",
    "        data=df_with_fits\n",
    "    )\n",
    "\n",
    "    ax.set_xticklabels(data_dist_orders)\n",
    "    ax.set(ylabel=\"\")\n",
    "    ax.set(xlabel=\"\")\n",
    "    ax.set_ylim([0, 0.65])\n",
    "    ax.set_yticks([ 0, 0.1, 0.2, 0.3, 0.4, 0.5, 0.6 ])\n",
    "    # ax.set_xticks([])\n",
    "    ax.xaxis.label.set_visible(False)\n",
    "\n",
    "    file_name = 'statistical_distribution_{}'.format(corpus)\n",
    "    plt.tight_layout()\n",
    "    plt.savefig(join(results_dir, '{}.svg'.format(file_name)), format='svg', pad_inches=0.0, bbox_inches='tight')\n",
    "    plt.savefig(join(results_dir, '{}.pdf'.format(file_name)), format='pdf', pad_inches=0.0, bbox_inches='tight')\n",
    "    plt.show()"
   ]
  },
  {
   "cell_type": "code",
   "execution_count": 753,
   "metadata": {},
   "outputs": [
    {
     "name": "stdout",
     "output_type": "stream",
     "text": [
      "       corpus Distribution   percent    color\n",
      "0  Web Tables          L-N  0.175127  #54a24b\n",
      "1  Web Tables          Exp  0.103814  #54a24b\n",
      "2  Web Tables         Norm  0.377164  #54a24b\n",
      "3  Web Tables          Pow  0.115990  #54a24b\n",
      "4  Web Tables          Und  0.157852  #54a24b\n",
      "5  Web Tables        Chi-2  0.023393  #54a24b\n",
      "6  Web Tables         Unif  0.046660  #54a24b\n"
     ]
    },
    {
     "data": {
      "image/png": "[encoded data removed]",
      "text/plain": [
       "<Figure size 176.4x88.2 with 1 Axes>"
      ]
     },
     "metadata": {},
     "output_type": "display_data"
    },
    {
     "name": "stdout",
     "output_type": "stream",
     "text": [
      "    corpus Distribution   percent    color\n",
      "7   Plotly          Und  0.351348  #b279a2\n",
      "8   Plotly          L-N  0.203852  #b279a2\n",
      "9   Plotly         Norm  0.151452  #b279a2\n",
      "10  Plotly          Pow  0.100734  #b279a2\n",
      "11  Plotly        Chi-2  0.043628  #b279a2\n",
      "12  Plotly         Unif  0.073364  #b279a2\n",
      "13  Plotly          Exp  0.075622  #b279a2\n"
     ]
    },
    {
     "data": {
      "image/png": "[encoded data removed]",
      "text/plain": [
       "<Figure size 176.4x88.2 with 1 Axes>"
      ]
     },
     "metadata": {},
     "output_type": "display_data"
    },
    {
     "name": "stdout",
     "output_type": "stream",
     "text": [
      "       corpus Distribution   percent    color\n",
      "14  Many Eyes          Exp  0.089932  #e45756\n",
      "15  Many Eyes          Und  0.305656  #e45756\n",
      "16  Many Eyes          L-N  0.187351  #e45756\n",
      "17  Many Eyes         Norm  0.241473  #e45756\n",
      "18  Many Eyes          Pow  0.097252  #e45756\n",
      "19  Many Eyes        Chi-2  0.053353  #e45756\n",
      "20  Many Eyes         Unif  0.024983  #e45756\n"
     ]
    },
    {
     "data": {
      "image/png": "[encoded data removed]",
      "text/plain": [
       "<Figure size 176.4x88.2 with 1 Axes>"
      ]
     },
     "metadata": {},
     "output_type": "display_data"
    },
    {
     "name": "stdout",
     "output_type": "stream",
     "text": [
      "       corpus Distribution   percent    color\n",
      "21  Open Data          L-N  0.107020  #f58518\n",
      "22  Open Data          Und  0.575031  #f58518\n",
      "23  Open Data         Norm  0.125936  #f58518\n",
      "24  Open Data          Exp  0.065789  #f58518\n",
      "25  Open Data         Unif  0.034751  #f58518\n",
      "26  Open Data          Pow  0.055429  #f58518\n",
      "27  Open Data        Chi-2  0.036045  #f58518\n"
     ]
    },
    {
     "data": {
      "image/png": "[encoded data removed]",
      "text/plain": [
       "<Figure size 176.4x88.2 with 1 Axes>"
      ]
     },
     "metadata": {},
     "output_type": "display_data"
    }
   ],
   "source": [
    "data_for_dist_bar_chart = []\n",
    "percent_by_corpus_and_dist = { c: {} for c in corpuses }\n",
    "for corpus in corpuses:\n",
    "    d = dist_counts_by_dataset[corpus]\n",
    "    \n",
    "    total_count = sum(d.values())\n",
    "    for dist, count in d.items():\n",
    "        percent = count / total_count\n",
    "        data_for_dist_bar_chart.append(OrderedDict([\n",
    "            ('corpus', formatted_names[corpus]),\n",
    "            ('Distribution', dist),\n",
    "            ('percent', percent)\n",
    "        ]))\n",
    "        \n",
    "        percent_by_corpus_and_dist[corpus][dist_to_formatted_name[dist]] = percent\n",
    "\n",
    "df = pd.DataFrame(data_for_dist_bar_chart)\n",
    "\n",
    "dist_to_formatted_name = {\n",
    "    'norm': 'Normal',\n",
    "    'chi2': 'Chi-squared',\n",
    "    'powerlaw': 'Power Law',\n",
    "    'uniform': 'Uniform',\n",
    "    'expon': 'Exponential',\n",
    "    'lognorm': 'Log-normal',\n",
    "    'undetermined': 'Undetermined'\n",
    "}\n",
    "\n",
    "dist_to_formatted_name = {\n",
    "    'norm': 'Normal',\n",
    "    'chi2': 'Chi-2',\n",
    "    'powerlaw': 'Power',\n",
    "    'uniform': 'Unif',\n",
    "    'expon': 'Expo',\n",
    "    'lognorm': 'Log-norm',\n",
    "    'undetermined': 'Undet'\n",
    "}\n",
    "\n",
    "dist_to_formatted_name = {\n",
    "    'norm': 'Norm',\n",
    "    'chi2': 'Chi-2',\n",
    "    'powerlaw': 'Pow',\n",
    "    'uniform': 'Unif',\n",
    "    'expon': 'Exp',\n",
    "    'lognorm': 'L-N',\n",
    "    'undetermined': 'Und'\n",
    "}\n",
    "\n",
    "df['Distribution'] = df['Distribution'].map(dist_to_formatted_name)\n",
    "\n",
    "data_dist_orders = [\n",
    "    'Norm',\n",
    "    'L-N',\n",
    "    'Pow',\n",
    "    'Exp',\n",
    "    'Unif',\n",
    "    'Chi-2',\n",
    "    'Und'\n",
    "]\n",
    "\n",
    "colors_dict = {\n",
    "    'brown': '#9d755d',\n",
    "    'pink': '#ff9da6',\n",
    "    'green': '#54a24b',\n",
    "    'blue': '#4c78a8',\n",
    "    'orange': '#f58518',\n",
    "    'red': '#e45756',\n",
    "    'purple': '#b279a2',\n",
    "    'teal': '#72b7b2'\n",
    "}\n",
    "\n",
    "colors = {\n",
    "    'manyeyes': colors_dict['red'],\n",
    "    'plotly': colors_dict['purple'],\n",
    "    'viznet': colors_dict['blue'],\n",
    "    'webtables': colors_dict['green'],\n",
    "    'opendata': colors_dict['orange']\n",
    "}\n",
    "\n",
    "formatted_name_colors = { formatted_names[c]: colors[c] for c in corpuses}\n",
    "\n",
    "for corpus in corpuses:\n",
    "    fig, ax = plt.subplots(figsize=(figurewidth, figureheight))\n",
    "\n",
    "    df_with_fits = df[df['corpus'] == formatted_names[corpus]]\n",
    "    df_with_fits['color'] = df_with_fits['corpus'].map(formatted_name_colors)\n",
    "    \n",
    "    \n",
    "    print(df_with_fits)\n",
    "    bars = plt.bar(\n",
    "        data_dist_orders,\n",
    "        [ percent_by_corpus_and_dist[corpus][d] for d in data_dist_orders ]\n",
    "        # df_with_fits['Distribution'],\n",
    "        # df_with_fits['percent'],\n",
    "        # order=data_dist_orders,\n",
    "        # hue='corpus',\n",
    "        # palette=formatted_name_colors,\n",
    "        # hue_order=data_type_orders,\n",
    "        # palette=sns.color_palette(colors.values()),\n",
    "        # data=df_with_fits\n",
    "    )\n",
    "    \n",
    "    for b in bars:\n",
    "        b.set_color(colors[corpus])\n",
    "\n",
    "    ax.grid(False)\n",
    "    ax.grid(True, which='major', axis='y')\n",
    "    # ax.set_xticklabels(data_dist_orders)\n",
    "#     ax.set(ylabel=\"\")\n",
    "#     ax.set(xlabel=\"\")\n",
    "    ax.set_ylim([0, 0.65])\n",
    "    ax.set_yticks([ 0, 0.1, 0.2, 0.3, 0.4, 0.5, 0.6 ])\n",
    "    # ax.set_xticks([])\n",
    "    ax.xaxis.label.set_visible(False)\n",
    "\n",
    "    file_name = 'statistical_distribution_{}'.format(corpus)\n",
    "    plt.tight_layout()\n",
    "    plt.savefig(join(results_dir, '{}.svg'.format(file_name)), format='svg', pad_inches=0.0, bbox_inches='tight')\n",
    "    plt.savefig(join(results_dir, '{}.pdf'.format(file_name)), format='pdf', pad_inches=0.0, bbox_inches='tight')\n",
    "    plt.show()\n"
   ]
  },
  {
   "cell_type": "markdown",
   "metadata": {},
   "source": [
    "### Categorical"
   ]
  },
  {
   "cell_type": "code",
   "execution_count": 684,
   "metadata": {},
   "outputs": [
    {
     "name": "stdout",
     "output_type": "stream",
     "text": [
      "webtables 0.9483787503586559\n",
      "webtables 1.0\n",
      "1.0000000000000009\n",
      "plotly 0.6803824316200449\n",
      "plotly 0.979613309799034\n",
      "1.000000000000001\n",
      "manyeyes 0.8126631125413759\n",
      "manyeyes 0.9911594714322187\n",
      "1.0000000000000009\n",
      "opendata 0.49866632981682624\n",
      "opendata 0.41671334543624977\n",
      "1.0000000000000182\n"
     ]
    },
    {
     "name": "stderr",
     "output_type": "stream",
     "text": [
      "No handles with labels found to put in legend.\n"
     ]
    },
    {
     "name": "stdout",
     "output_type": "stream",
     "text": [
      "viznet 0.7880930531205531\n",
      "viznet 0.9942505366120983\n",
      "1.0000000000000182\n"
     ]
    },
    {
     "data": {
      "text/plain": [
       "<Figure size 252x155.748 with 0 Axes>"
      ]
     },
     "metadata": {},
     "output_type": "display_data"
    },
    {
     "data": {
      "image/png": "[encoded data removed]",
      "text/plain": [
       "<Figure size 176.4x88.2 with 1 Axes>"
      ]
     },
     "metadata": {},
     "output_type": "display_data"
    },
    {
     "name": "stderr",
     "output_type": "stream",
     "text": [
      "No handles with labels found to put in legend.\n"
     ]
    },
    {
     "data": {
      "image/png": "[encoded data removed]",
      "text/plain": [
       "<Figure size 176.4x88.2 with 1 Axes>"
      ]
     },
     "metadata": {},
     "output_type": "display_data"
    },
    {
     "name": "stderr",
     "output_type": "stream",
     "text": [
      "No handles with labels found to put in legend.\n"
     ]
    },
    {
     "data": {
      "image/png": "[encoded data removed]",
      "text/plain": [
       "<Figure size 176.4x88.2 with 1 Axes>"
      ]
     },
     "metadata": {},
     "output_type": "display_data"
    },
    {
     "name": "stderr",
     "output_type": "stream",
     "text": [
      "No handles with labels found to put in legend.\n"
     ]
    },
    {
     "data": {
      "image/png": "[encoded data removed]",
      "text/plain": [
       "<Figure size 176.4x88.2 with 1 Axes>"
      ]
     },
     "metadata": {},
     "output_type": "display_data"
    },
    {
     "name": "stderr",
     "output_type": "stream",
     "text": [
      "No handles with labels found to put in legend.\n"
     ]
    },
    {
     "data": {
      "image/png": "[encoded data removed]",
      "text/plain": [
       "<Figure size 176.4x88.2 with 1 Axes>"
      ]
     },
     "metadata": {},
     "output_type": "display_data"
    }
   ],
   "source": [
    "# Split by corpus\n",
    "\n",
    "field_name = 'list_entropy'\n",
    "plt.figure()\n",
    "\n",
    "entropy_by_corpus = {}\n",
    "for corpus in corpuses:\n",
    "    df = single_field_feature_dfs_by_corpus[corpus]\n",
    "    df = df[df['general_type_is_c']]\n",
    "    \n",
    "    entropy = df[field_name]\n",
    "    max_entropy = np.log(df['num_unique_elements'])\n",
    "    normalized_entropy = entropy / max_entropy\n",
    "    \n",
    "    entropy_by_corpus[corpus] = [ c for c in normalized_entropy if not pd.isnull(c) ]\n",
    "    print(corpus, np.nanmean(normalized_entropy))\n",
    "    print(corpus, np.nanmedian(normalized_entropy))\n",
    "    print(np.max(normalized_entropy))\n",
    "    \n",
    "# bin_values, bin_labels = pd.Series(entropy_by_corpus[''])\n",
    "    \n",
    "# entropy_by_corpus = { c: [] for c in corpuses }\n",
    "# for corpus, df in single_field_feature_dfs_by_corpus.items():\n",
    "#     df_only_c = df[df['general_type_is_c'] == True]\n",
    "#     x = df[field_name].dropna()\n",
    "#     x = x[x <= 10]\n",
    "    \n",
    "#     ax = sns.distplot(x, label=corpus, norm_hist=True, kde=False, bins=10)  #, hist=False, rug=True))\n",
    "#     ax.set(xlabel=corpus)\n",
    "#     ax.set_xlim(0, 10)\n",
    "    \n",
    "#     plt.show()\n",
    "textwidth = 7.48\n",
    "figurewidth = 2.45  #  . (textwidth / 3)\n",
    "figureheight = (figurewidth / 2)\n",
    "    \n",
    "for corpus in corpuses:\n",
    "    \n",
    "    fig, ax = plt.subplots(figsize=(figurewidth, figureheight))\n",
    "    entropy = entropy_by_corpus[corpus]\n",
    "    ax = sns.distplot(\n",
    "        entropy,\n",
    "        color=colors[corpus],\n",
    "        bins=10,\n",
    "        norm_hist=True,\n",
    "        kde=False,\n",
    "        hist_kws=dict(alpha=1)\n",
    "    )\n",
    "\n",
    "    plt.grid(False)\n",
    "    plt.grid(True, which='major', axis='y')\n",
    "\n",
    "    plt.xticks([ 0.0, 0.1, 0.2, 0.3, 0.4, 0.5, 0.6, 0.7, 0.8, 0.9, 1.0])\n",
    "    plt.yticks([ 0, 2, 4, 6, 8 ])\n",
    "    plt.ylim(0, 9)\n",
    "    plt.xlim(0, 1)\n",
    "    plt.legend(loc='upper left')\n",
    "\n",
    "    file_name = 'entropy_distribution_{}'.format(corpus)\n",
    "    plt.tight_layout()\n",
    "    plt.savefig(join(results_dir, '{}.svg'.format(file_name)), format='svg', pad_inches=0.0, bbox_inches='tight')\n",
    "    plt.savefig(join(results_dir, '{}.pdf'.format(file_name)), format='pdf',pad_inches=0.0, bbox_inches='tight')\n",
    "\n",
    "    plt.show()"
   ]
  },
  {
   "cell_type": "code",
   "execution_count": 682,
   "metadata": {},
   "outputs": [
    {
     "name": "stdout",
     "output_type": "stream",
     "text": [
      "webtables 0.9483787503586559\n",
      "webtables 1.0\n",
      "1.0000000000000009\n",
      "plotly 0.6803824316200449\n",
      "plotly 0.979613309799034\n",
      "1.000000000000001\n",
      "manyeyes 0.8126631125413759\n",
      "manyeyes 0.9911594714322187\n",
      "1.0000000000000009\n",
      "opendata 0.49866632981682624\n",
      "opendata 0.41671334543624977\n",
      "1.0000000000000182\n",
      "viznet 0.7880930531205531\n",
      "viznet 0.9942505366120983\n",
      "1.0000000000000182\n"
     ]
    },
    {
     "data": {
      "image/png": "[encoded data removed]",
      "text/plain": [
       "<Figure size 252x155.748 with 1 Axes>"
      ]
     },
     "metadata": {},
     "output_type": "display_data"
    }
   ],
   "source": [
    "field_name = 'list_entropy'\n",
    "plt.figure()\n",
    "\n",
    "entropy_by_corpus = {}\n",
    "for corpus in corpuses:\n",
    "    df = single_field_feature_dfs_by_corpus[corpus]\n",
    "    df = df[df['general_type_is_c']]\n",
    "    \n",
    "    entropy = df[field_name]\n",
    "    max_entropy = np.log(df['num_unique_elements'])\n",
    "    normalized_entropy = entropy / max_entropy\n",
    "    \n",
    "    entropy_by_corpus[corpus] = [ c for c in normalized_entropy if not pd.isnull(c) ]\n",
    "    print(corpus, np.nanmean(normalized_entropy))\n",
    "    print(corpus, np.nanmedian(normalized_entropy))\n",
    "    print(np.max(normalized_entropy))\n",
    "    \n",
    "ax = plt.hist(\n",
    "    [ entropy_by_corpus[c] for c in corpuses ],\n",
    "    color=[ colors[c] for c in corpuses],\n",
    "    label=[ formatted_names[c] for c in corpuses ],\n",
    "    # alpha=0.5,\n",
    "    # rwidth=0.1,\n",
    "    normed=1,\n",
    "    histtype='step', # 'bar', \n",
    "    lw=1,\n",
    "    bins=20\n",
    ")\n",
    "\n",
    "plt.grid(False)\n",
    "plt.grid(True, which='major', axis='y')\n",
    "\n",
    "plt.xlabel('Normalized Entropy')\n",
    "plt.ylabel('Normalized Frequency')\n",
    "plt.xticks([ 0.0, 0.1, 0.2, 0.3, 0.4, 0.5, 0.6, 0.7, 0.8, 0.9, 1.0])\n",
    "# plt.xlim([0, max_columns])\n",
    "# plt.yscale('log')\n",
    "plt.xlim(0, 1)\n",
    "plt.legend(loc='upper left')\n",
    "\n",
    "\n",
    "# Separate into three plots\n",
    "# Test distribution\n",
    "\n",
    "file_name = 'entropy_distribution'.format(nrows_agg)\n",
    "plt.tight_layout()\n",
    "plt.savefig(join(results_dir, '{}.svg'.format(file_name)), format='svg', pad_inches=0.0, bbox_inches='tight')\n",
    "plt.savefig(join(results_dir, '{}.pdf'.format(file_name)), format='pdf', pad_inches=0.0, bbox_inches='tight')\n",
    "\n",
    "plt.show()"
   ]
  },
  {
   "cell_type": "markdown",
   "metadata": {},
   "source": [
    "## Taxonomy"
   ]
  },
  {
   "cell_type": "code",
   "execution_count": 646,
   "metadata": {},
   "outputs": [
    {
     "name": "stdout",
     "output_type": "stream",
     "text": [
      "[('c',), ('t',), ('q',)]\n",
      "[('c', 'c'), ('c', 't'), ('c', 'q'), ('t', 't'), ('t', 'q'), ('q', 'q')]\n",
      "[('c', 'c', 'c'), ('c', 'c', 't'), ('c', 'c', 'q'), ('c', 't', 't'), ('c', 't', 'q'), ('c', 'q', 'q'), ('t', 't', 't'), ('t', 't', 'q'), ('t', 'q', 'q'), ('q', 'q', 'q')]\n",
      "[('c', 'c', 'c', 'c'), ('c', 'c', 'c', 't'), ('c', 'c', 'c', 'q'), ('c', 'c', 't', 't'), ('c', 'c', 't', 'q'), ('c', 'c', 'q', 'q'), ('c', 't', 't', 't'), ('c', 't', 't', 'q'), ('c', 't', 'q', 'q'), ('c', 'q', 'q', 'q'), ('t', 't', 't', 't'), ('t', 't', 't', 'q'), ('t', 't', 'q', 'q'), ('t', 'q', 'q', 'q'), ('q', 'q', 'q', 'q')]\n",
      "[('c', 'c', 'c', 'c', 'c'), ('c', 'c', 'c', 'c', 't'), ('c', 'c', 'c', 'c', 'q'), ('c', 'c', 'c', 't', 't'), ('c', 'c', 'c', 't', 'q'), ('c', 'c', 'c', 'q', 'q'), ('c', 'c', 't', 't', 't'), ('c', 'c', 't', 't', 'q'), ('c', 'c', 't', 'q', 'q'), ('c', 'c', 'q', 'q', 'q'), ('c', 't', 't', 't', 't'), ('c', 't', 't', 't', 'q'), ('c', 't', 't', 'q', 'q'), ('c', 't', 'q', 'q', 'q'), ('c', 'q', 'q', 'q', 'q'), ('t', 't', 't', 't', 't'), ('t', 't', 't', 't', 'q'), ('t', 't', 't', 'q', 'q'), ('t', 't', 'q', 'q', 'q'), ('t', 'q', 'q', 'q', 'q'), ('q', 'q', 'q', 'q', 'q')]\n",
      "Total number of combinations: 55\n"
     ]
    }
   ],
   "source": [
    "def stringify_type_count_dict(d):\n",
    "    # s = 'c={};q={};t={}'.format(d['c'], d['q'], d['t'])\n",
    "    s = '{} {} {}'.format(d['c'], d['q'], d['t'])\n",
    "    return s\n",
    "\n",
    "types = ['c', 't', 'q']\n",
    "max_columns = 5\n",
    "\n",
    "total_num_combinations = 0\n",
    "\n",
    "all_type_combinations = {}\n",
    "for num_columns in range(1, max_columns + 1):\n",
    "    type_combinations = list(itertools.combinations_with_replacement(types, num_columns))\n",
    "    print(type_combinations)\n",
    "    all_type_combinations[num_columns] = [ Counter(x) for x in type_combinations ]\n",
    "    total_num_combinations += len(type_combinations)\n",
    "\n",
    "print('Total number of combinations:', total_num_combinations)"
   ]
  },
  {
   "cell_type": "code",
   "execution_count": 358,
   "metadata": {},
   "outputs": [
    {
     "name": "stdout",
     "output_type": "stream",
     "text": [
      "Total for 1 columns: 41117\n",
      "1 0 0\n",
      "c=1 : 38518\n",
      "0 0 1\n",
      "t=1 : 278\n",
      "0 1 0\n",
      "q=1 : 1829\n",
      "---\n",
      "Total for 2 columns: 48484\n",
      "2 0 0\n",
      "c=2 : 12028\n",
      "1 0 1\n",
      "c=1, t=1 : 1102\n",
      "1 1 0\n",
      "c=1, q=1 : 15445\n",
      "0 0 2\n",
      "t=2 : 110\n",
      "0 1 1\n",
      "t=1, q=1 : 12999\n",
      "0 2 0\n",
      "q=2 : 6437\n",
      "---\n",
      "Total for 3 columns: 24829\n",
      "3 0 0\n",
      "c=3 : 4855\n",
      "2 0 1\n",
      "c=2, t=1 : 1475\n",
      "2 1 0\n",
      "c=2, q=1 : 3986\n",
      "1 0 2\n",
      "c=1, t=2 : 192\n",
      "1 1 1\n",
      "c=1, t=1, q=1 : 1178\n",
      "1 2 0\n",
      "c=1, q=2 : 7072\n",
      "0 0 3\n",
      "t=3 : 11\n",
      "0 1 2\n",
      "t=2, q=1 : 86\n",
      "0 2 1\n",
      "t=1, q=2 : 3241\n",
      "0 3 0\n",
      "q=3 : 2680\n",
      "---\n",
      "Total for 4 columns: 20007\n",
      "4 0 0\n",
      "c=4 : 4491\n",
      "3 0 1\n",
      "c=3, t=1 : 2358\n",
      "3 1 0\n",
      "c=3, q=1 : 1503\n",
      "2 0 2\n",
      "c=2, t=2 : 355\n",
      "2 1 1\n",
      "c=2, t=1, q=1 : 851\n",
      "2 2 0\n",
      "c=2, q=2 : 2499\n",
      "1 0 3\n",
      "c=1, t=3 : 18\n",
      "1 1 2\n",
      "c=1, t=2, q=1 : 81\n",
      "1 2 1\n",
      "c=1, t=1, q=2 : 445\n",
      "1 3 0\n",
      "c=1, q=3 : 3531\n",
      "0 0 4\n",
      "t=4 : 10\n",
      "0 1 3\n",
      "t=3, q=1 : 13\n",
      "0 2 2\n",
      "t=2, q=2 : 486\n",
      "0 3 1\n",
      "t=1, q=3 : 1115\n",
      "0 4 0\n",
      "q=4 : 2234\n",
      "---\n",
      "Total for 5 columns: 14808\n",
      "5 0 0\n",
      "c=5 : 1588\n",
      "4 0 1\n",
      "c=4, t=1 : 803\n",
      "4 1 0\n",
      "c=4, q=1 : 1269\n",
      "3 0 2\n",
      "c=3, t=2 : 866\n",
      "3 1 1\n",
      "c=3, t=1, q=1 : 852\n",
      "3 2 0\n",
      "c=3, q=2 : 959\n",
      "2 0 3\n",
      "c=2, t=3 : 26\n",
      "2 1 2\n",
      "c=2, t=2, q=1 : 98\n",
      "2 2 1\n",
      "c=2, t=1, q=2 : 383\n",
      "2 3 0\n",
      "c=2, q=3 : 1367\n",
      "1 0 4\n",
      "c=1, t=4 : 1\n",
      "1 1 3\n",
      "c=1, t=3, q=1 : 7\n",
      "1 2 2\n",
      "c=1, t=2, q=2 : 90\n",
      "1 3 1\n",
      "c=1, t=1, q=3 : 413\n",
      "1 4 0\n",
      "c=1, q=4 : 2383\n",
      "0 0 5\n",
      "t=5 : 7\n",
      "0 1 4\n",
      "t=4, q=1 : 2\n",
      "0 2 3\n",
      "t=3, q=2 : 6\n",
      "0 3 2\n",
      "t=2, q=3 : 147\n",
      "0 4 1\n",
      "t=1, q=4 : 1071\n",
      "0 5 0\n",
      "q=5 : 2450\n",
      "---\n"
     ]
    }
   ],
   "source": [
    "count_by_number_of_columns_and_types = { c: dict() for c in range(1, max_columns + 1) }\n",
    "\n",
    "for num_columns, type_combinations in all_type_combinations.items():\n",
    "    df = combined_dataset\n",
    "    df_filtered_by_num_columns = df[df['exists-agg-num'] == num_columns]\n",
    "    print('Total for', num_columns, 'columns:', len(df_filtered_by_num_columns))\n",
    "    \n",
    "    for type_combination in type_combinations:\n",
    "        key = stringify_type_count_dict(type_combination)\n",
    "        print(key)\n",
    "        df_filtered_by_num_columns_and_type = df[\n",
    "            (df['exists-agg-num'] == num_columns) &\n",
    "            (df['general_type_is_c-agg-num'] == type_combination['c']) &\n",
    "            (df['general_type_is_t-agg-num'] == type_combination['t']) &\n",
    "            (df['general_type_is_q-agg-num'] == type_combination['q'])\n",
    "        ]\n",
    "        print(', '.join(\"{!s}={!r}\".format(key,val) for (key,val) in type_combination.items()), ':',\n",
    "              len(df_filtered_by_num_columns_and_type))\n",
    "        \n",
    "        count_by_number_of_columns_and_types[num_columns][key] = len(df_filtered_by_num_columns_and_type)\n",
    "    print('---')"
   ]
  },
  {
   "cell_type": "code",
   "execution_count": 755,
   "metadata": {},
   "outputs": [
    {
     "name": "stdout",
     "output_type": "stream",
     "text": [
      "count               float64\n",
      "type_composition     object\n",
      "dtype: object\n"
     ]
    },
    {
     "data": {
      "image/png": "[encoded data removed]",
      "text/plain": [
       "<Figure size 176.4x147 with 1 Axes>"
      ]
     },
     "metadata": {},
     "output_type": "display_data"
    }
   ],
   "source": [
    "# Separate\n",
    "\n",
    "from matplotlib import gridspec\n",
    "from matplotlib.ticker import FuncFormatter\n",
    "\n",
    "def tick_label_formatter(k):\n",
    "    return '  '.join(k.split(';'))\n",
    "\n",
    "nrow = 5\n",
    "ncol = 1\n",
    "\n",
    "fig, ax = plt.subplots(figsize=(figurewidth, figurewidth / 1.2))\n",
    "for num_columns, v in count_by_number_of_columns_and_types.items():   \n",
    "    if num_columns != 3:\n",
    "        continue\n",
    "    # ax = plt.subplot(gs[num_columns - 1,0])\n",
    "    \n",
    "    # fig = plt.figure(figsize=(3.5, 5 * (3.5 / 1.618))) \n",
    "    # print(v)\n",
    "    df = pd.DataFrame.from_dict(v, orient='index', columns=[ 'count' ])\n",
    "    df['type_composition'] = df.index\n",
    "\n",
    "\n",
    "    total = np.max(df['count'])\n",
    "    \n",
    "    plt.grid(False)\n",
    "    plt.grid(True, which='major', axis='x')\n",
    "    \n",
    "    df['count'] = df['count'] / total\n",
    "    df.columns = [ tick_label_formatter(k) for k in list(df.columns)]\n",
    "    df['count'] = df['count'].astype(float)\n",
    "\n",
    "    df = df.sort_values(['count'], ascending=False)\n",
    "    # ax.set_title('{} Column Datasets'.format(num_columns))\n",
    "        \n",
    "    # ax.set_xlim(0, 1.0)\n",
    "    ax.set_ylim(9.5,-1)\n",
    "\n",
    "    print(df.dtypes)\n",
    "#     ax.barh(\n",
    "#         df['type_composition'],\n",
    "#         df['count'],\n",
    "#         height=1\n",
    "\n",
    "#     )\n",
    "    ax.barh(\n",
    "        df['type_composition'],\n",
    "        df['count'],\n",
    "        1,\n",
    "        # orient='h',\n",
    "        color=colors['viznet']\n",
    "        # width=3,\n",
    "    )\n",
    "\n",
    "plt.savefig('../results/taxonomy_3.svg'.format(num_columns), format='svg', pad_inches=0.0, bbox_inches='tight')\n",
    "plt.savefig('../results/taxonomy_3.pdf'.format(num_columns), format='pdf', pad_inches=0.0, bbox_inches='tight')\n",
    "plt.show()    "
   ]
  },
  {
   "cell_type": "code",
   "execution_count": null,
   "metadata": {},
   "outputs": [],
   "source": [
    "\n",
    "from matplotlib import gridspec\n",
    "from matplotlib.ticker import FuncFormatter\n",
    "\n",
    "def tick_label_formatter(k):\n",
    "    return '  '.join(k.split(';'))\n",
    "\n",
    "fig = plt.figure(figsize=(3.5, 5 * (3.5 / 1.618))) \n",
    "nrow = 5\n",
    "ncol = 1\n",
    "gs = gridspec.GridSpec(nrow, ncol,\n",
    "         wspace=0.0, hspace=0.0, \n",
    "         top=1.-0.5/(nrow+1), bottom=0.5/(nrow+1), \n",
    "         left=0.001, right=0.999) \n",
    "fig.suptitle('Normalized Frequency of Type Distributions by Number of Columns', y=0.93)\n",
    "for num_columns, v in count_by_number_of_columns_and_types.items():    \n",
    "    ax = plt.subplot(gs[num_columns - 1,0])\n",
    "\n",
    "    print(v)\n",
    "    df = pd.DataFrame.from_dict(v, orient='index', columns=[ 'count' ])\n",
    "    df['type_composition'] = df.index\n",
    "\n",
    "    # print(df)\n",
    "    # print(df)\n",
    "    # df = pd.DataFrame(v, index=[0]) # for type_combination, count in v.items():\n",
    "    # print(df)\n",
    "    # df = df.sort_values(by=0, axis=1, ascending=False)\n",
    "    \n",
    "    \n",
    "    total = np.max(df['count'])\n",
    "    df['count'] = df['count'] / total\n",
    "    df.columns = [ tick_label_formatter(k) for k in list(df.columns)]\n",
    "    df['count'] = df['count'].astype(float)\n",
    "\n",
    "    if num_columns == 1:\n",
    "        a = plt.annotate(\n",
    "            '$\\mathregular{C}$ $\\mathregular{Q}$ $\\mathregular{T}$',\n",
    "            xy=(-0.11, -0.3),\n",
    "            xycoords='data',\n",
    "            annotation_clip=False,\n",
    "        )\n",
    "        a.set_family('Helvetica')\n",
    "        a.set_weight(500)\n",
    "        a.set_fontsize(8)\n",
    "    ax.set_ylabel('{} Column Datasets'.format(num_columns))\n",
    "    if num_columns < 5:\n",
    "        ax.set_xticklabels([])\n",
    "        \n",
    "    ax.set_xlim(0, 1.0)\n",
    "\n",
    "    ax.barh(\n",
    "        df['type_composition'],\n",
    "        df['count'],\n",
    "        height=1\n",
    "        \n",
    "    )\n",
    "\n",
    "plt.savefig('../results/taxonomy_equal_width_{}.svg'.format(num_columns), format='svg', bbox_inches='tight')\n",
    "plt.savefig('../results/taxonomy_equal_width_{}.pdf'.format(num_columns), format='pdf', bbox_inches='tight')\n",
    "plt.show()"
   ]
  }
 ],
 "metadata": {
  "kernelspec": {
   "display_name": "Python 3",
   "language": "python",
   "name": "python3"
  },
  "language_info": {
   "codemirror_mode": {
    "name": "ipython",
    "version": 3
   },
   "file_extension": ".py",
   "mimetype": "text/x-python",
   "name": "python",
   "nbconvert_exporter": "python",
   "pygments_lexer": "ipython3",
   "version": "3.7.0"
  }
 },
 "nbformat": 4,
 "nbformat_minor": 2
}